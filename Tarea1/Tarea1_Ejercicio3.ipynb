{
  "nbformat": 4,
  "nbformat_minor": 0,
  "metadata": {
    "colab": {
      "name": "Tarea1_Ejercicio3.ipynb",
      "provenance": [],
      "authorship_tag": "ABX9TyP2W4aXJr9K71gWeKT9py/y",
      "include_colab_link": true
    },
    "kernelspec": {
      "name": "python3",
      "display_name": "Python 3"
    },
    "language_info": {
      "name": "python"
    }
  },
  "cells": [
    {
      "cell_type": "markdown",
      "metadata": {
        "id": "view-in-github",
        "colab_type": "text"
      },
      "source": [
        "<a href=\"https://colab.research.google.com/github/joiortega1/Deep_Learning/blob/main/Tarea1/Tarea1_Ejercicio3.ipynb\" target=\"_parent\"><img src=\"https://colab.research.google.com/assets/colab-badge.svg\" alt=\"Open In Colab\"/></a>"
      ]
    },
    {
      "cell_type": "markdown",
      "metadata": {
        "id": "n7W9P7BM55ii"
      },
      "source": [
        "# Tarea 1: Perceptrón y Redes Densas\n",
        "\n",
        "- Ortega Ibarra Jaime Jesus\n",
        "\n",
        "3. Entrena una red completamente conectada para aproximar la compuerta XOR"
      ]
    },
    {
      "cell_type": "markdown",
      "metadata": {
        "id": "AxiULN5r6B7r"
      },
      "source": [
        "Importamos librerías a utilizar"
      ]
    },
    {
      "cell_type": "code",
      "metadata": {
        "id": "MBw59Gdw0zO-"
      },
      "source": [
        "import numpy as np\n",
        "import matplotlib.pyplot as plt\n",
        "import torch\n",
        "import torch.nn as nn\n",
        "import torch.nn.functional as F\n",
        "import torchvision.transforms as T\n",
        "import torch.optim as optim\n",
        "from torch.utils.data import DataLoader\n",
        "from torch.utils.data import TensorDataset"
      ],
      "execution_count": 1,
      "outputs": []
    },
    {
      "cell_type": "markdown",
      "metadata": {
        "id": "_V9_pOWc6FZR"
      },
      "source": [
        "Con ayuda de Numpy creamos nuestra compuerta $XOR$"
      ]
    },
    {
      "cell_type": "code",
      "metadata": {
        "id": "5FGmJbU9AYf8"
      },
      "source": [
        "x_train = np.array([[1,0],[0,0],[0,1],[1,0],[1,1],[0,1]], dtype = \"float32\")\n",
        "y_train = np.array([[1],[0],[1],[1],[0],[1]], dtype = \"float32\")\n",
        "x_test = np.array([[1,1],[1,0],[0,1],[1,0],[1,1],[0,1]], dtype = \"float32\")\n",
        "y_test = np.array([[0],[1],[1],[1],[0],[1]], dtype = \"float32\")"
      ],
      "execution_count": 139,
      "outputs": []
    },
    {
      "cell_type": "code",
      "metadata": {
        "id": "oTgJ5Zt501th"
      },
      "source": [
        "tensor_X = torch.tensor(x_train).type(torch.float32)\n",
        "tensor_y = torch.tensor(y_train).view(-1, 1).type(torch.float32)\n",
        "dl_train = DataLoader(TensorDataset(tensor_X,tensor_y), batch_size=5)\n",
        "dl_train.batch_size\n",
        "tensor_X_test = torch.tensor(x_test).type(torch.float32)\n",
        "tensor_y_test = torch.tensor(y_test).view(-1, 1).type(torch.float32)\n",
        "dl_test = DataLoader(TensorDataset(tensor_X_test, tensor_y_test), batch_size=5)"
      ],
      "execution_count": 140,
      "outputs": []
    },
    {
      "cell_type": "markdown",
      "metadata": {
        "id": "5cYZ3Zi06Jnq"
      },
      "source": [
        "Con ayuda de las libretas vistas en clase, creamos nuestras funciones para entrenamiento"
      ]
    },
    {
      "cell_type": "code",
      "metadata": {
        "id": "-eHIfrAP06fR"
      },
      "source": [
        "def Model():\n",
        "  model = nn.Sequential(\n",
        "    nn.Linear(2,35),\n",
        "    nn.ReLU(),\n",
        "    nn.Linear(35,15),\n",
        "    nn.ReLU(),\n",
        "    nn.Linear(15,10),\n",
        "    nn.Sigmoid(),\n",
        "    nn.Linear(10,1),\n",
        "    nn.Sigmoid())\n",
        "  return model\n",
        "\n",
        "\n",
        "def eval_epoch(dl, model):\n",
        "    with torch.no_grad():\n",
        "        loss_list = []\n",
        "        accuracy_count = 0\n",
        "        for x, y_true in dl:\n",
        "            y_lgts = model(x)\n",
        "            loss = F.binary_cross_entropy(y_lgts, y_true)\n",
        "            loss_list.append(loss)\n",
        "            \n",
        "            y_pred = y_lgts.round()\n",
        "            accuracy_count += (y_pred == y_true).sum()\n",
        "        \n",
        "        accuracy = accuracy_count/(len(dl)*(dl.batch_size))\n",
        "        mean_loss = np.mean(loss_list)\n",
        "        \n",
        "        return accuracy, mean_loss\n",
        "\n",
        "def train(model, tst_dl, trn_dl, lr=1e-3,epochs=1000, verbose=False):\n",
        "    loss_hist, acc_hist = [], []\n",
        "    opt = optim.SGD(model.parameters(), lr=lr)\n",
        "\n",
        "    for epoch in range(epochs):\n",
        "\n",
        "        loss_hist = []\n",
        "        for x, y_true in trn_dl:\n",
        "            y_lgts = model(x)\n",
        "            loss = F.binary_cross_entropy(y_lgts, y_true)\n",
        "            opt.zero_grad()\n",
        "            loss.backward()\n",
        "            opt.step()\n",
        "            hist_perd = loss.item() * 100\n",
        "            loss_hist.append(hist_perd)\n",
        "        acc_hist.append(np.mean(loss_hist))\n",
        "    eval = eval_epoch(tst_dl, model)    \n",
        "    return acc_hist, loss_hist, eval"
      ],
      "execution_count": 141,
      "outputs": []
    },
    {
      "cell_type": "code",
      "metadata": {
        "colab": {
          "base_uri": "https://localhost:8080/"
        },
        "id": "TSG_vXea1Eo9",
        "outputId": "1139dff0-3c58-48f2-b41e-52260b61dfad"
      },
      "source": [
        "model = Model()\n",
        "acc_hist, loss_hist, eval = train(model, dl_test, dl_train)\n",
        "print(eval)"
      ],
      "execution_count": 142,
      "outputs": [
        {
          "output_type": "stream",
          "text": [
            "(tensor(0.4000), 0.5205767)\n"
          ],
          "name": "stdout"
        }
      ]
    },
    {
      "cell_type": "code",
      "metadata": {
        "colab": {
          "base_uri": "https://localhost:8080/",
          "height": 265
        },
        "id": "0KKAuzip1F8i",
        "outputId": "f907bd7b-739f-477d-9e0b-f44c6756a4fa"
      },
      "source": [
        "plt.plot(np.arange(1,len(loss_hist)+1),loss_hist)\n",
        "plt.grid()"
      ],
      "execution_count": 143,
      "outputs": [
        {
          "output_type": "display_data",
          "data": {
            "image/png": "[encoded data removed]",
            "text/plain": [
              "<Figure size 432x288 with 1 Axes>"
            ]
          },
          "metadata": {
            "tags": [],
            "needs_background": "light"
          }
        }
      ]
    }
  ]
}