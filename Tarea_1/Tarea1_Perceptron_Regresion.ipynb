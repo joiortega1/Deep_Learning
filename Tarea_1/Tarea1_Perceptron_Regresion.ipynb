{
  "nbformat": 4,
  "nbformat_minor": 0,
  "metadata": {
    "colab": {
      "name": "Tarea1_Perceptron-Regresion.ipynb",
      "provenance": [],
      "authorship_tag": "ABX9TyOtSogGMZlWnYBEK0yOBSLC",
      "include_colab_link": true
    },
    "kernelspec": {
      "name": "python3",
      "display_name": "Python 3"
    },
    "language_info": {
      "name": "python"
    }
  },
  "cells": [
    {
      "cell_type": "markdown",
      "metadata": {
        "id": "view-in-github",
        "colab_type": "text"
      },
      "source": [
        "<a href=\"https://colab.research.google.com/github/joiortega1/Deep_Learning/blob/main/Tarea_1/Tarea1_Perceptron_Regresion.ipynb\" target=\"_parent\"><img src=\"https://colab.research.google.com/assets/colab-badge.svg\" alt=\"Open In Colab\"/></a>"
      ]
    },
    {
      "cell_type": "markdown",
      "metadata": {
        "id": "sJyST59ESpUy"
      },
      "source": [
        "# Tarea 1: Perceptrón y Redes Densas\n",
        "- Ortega Ibarra Jaime Jesús"
      ]
    },
    {
      "cell_type": "markdown",
      "metadata": {
        "id": "BRo7tl6DSwPu"
      },
      "source": [
        "Resuelve los siguientes ejercicios en libretas de Colab independientes que sean replicables"
      ]
    },
    {
      "cell_type": "markdown",
      "metadata": {
        "id": "PZoMLMeKS7bJ"
      },
      "source": [
        "1. Un perceptrón o neurona no es capaz de aproximar una función que se separe en dos clases (naranja y azul) el conjunto de datos mostrado en la figura. Propón una transformación aplicada a los atributos $x_{1}$ y $x_{2}$ de forma que puedan ser separados por solo un perceptrón. Justifica por que la transformación propuesta funciona."
      ]
    },
    {
      "cell_type": "markdown",
      "metadata": {
        "id": "chz0fF8aYXn5"
      },
      "source": [
        "![An Image](https://github.com/joiortega1/Deep_Learning/blob/main/Tarea1/imagen_figura1.jpeg)"
      ]
    },
    {
      "cell_type": "markdown",
      "metadata": {
        "id": "2-tZaA8_YtvX"
      },
      "source": [
        ""
      ]
    },
    {
      "cell_type": "markdown",
      "metadata": {
        "id": "2rXxjY8cTgcZ"
      },
      "source": [
        "2. Extiende el ejercicio **1c_reglin.ipynb** visto en clase para realizar regresión lineal con los dos atributos de entrada"
      ]
    },
    {
      "cell_type": "markdown",
      "metadata": {
        "id": "7Ndt_hjYUZS1"
      },
      "source": [
        "Importamos librerías necesarias"
      ]
    },
    {
      "cell_type": "code",
      "metadata": {
        "id": "5IyoeVc7TpFh"
      },
      "source": [
        "import pandas as pd\n",
        "import numpy as np\n",
        "import matplotlib.pyplot as plt\n",
        "import seaborn as sns\n",
        "import torch"
      ],
      "execution_count": 1,
      "outputs": []
    },
    {
      "cell_type": "markdown",
      "metadata": {
        "id": "rmhDHMyCUWGk"
      },
      "source": [
        "Leemos y mostramos nuestros datos"
      ]
    },
    {
      "cell_type": "code",
      "metadata": {
        "colab": {
          "base_uri": "https://localhost:8080/",
          "height": 204
        },
        "id": "CJYxd5HKUFmQ",
        "outputId": "eb860554-ea93-4e17-b84b-af8fe19cdefa"
      },
      "source": [
        "url = 'https://raw.githubusercontent.com/bereml/iap/master/datos/califs.csv'\n",
        "data = pd.read_csv(url)\n",
        "data.head"
      ],
      "execution_count": 3,
      "outputs": [
        {
          "output_type": "execute_result",
          "data": {
            "text/html": [
              "<div>\n",
              "<style scoped>\n",
              "    .dataframe tbody tr th:only-of-type {\n",
              "        vertical-align: middle;\n",
              "    }\n",
              "\n",
              "    .dataframe tbody tr th {\n",
              "        vertical-align: top;\n",
              "    }\n",
              "\n",
              "    .dataframe thead th {\n",
              "        text-align: right;\n",
              "    }\n",
              "</style>\n",
              "<table border=\"1\" class=\"dataframe\">\n",
              "  <thead>\n",
              "    <tr style=\"text-align: right;\">\n",
              "      <th></th>\n",
              "      <th>prev</th>\n",
              "      <th>horas</th>\n",
              "      <th>calif</th>\n",
              "    </tr>\n",
              "  </thead>\n",
              "  <tbody>\n",
              "    <tr>\n",
              "      <th>0</th>\n",
              "      <td>5.6</td>\n",
              "      <td>8.2</td>\n",
              "      <td>5.1</td>\n",
              "    </tr>\n",
              "    <tr>\n",
              "      <th>1</th>\n",
              "      <td>6.7</td>\n",
              "      <td>9.3</td>\n",
              "      <td>5.9</td>\n",
              "    </tr>\n",
              "    <tr>\n",
              "      <th>2</th>\n",
              "      <td>5.1</td>\n",
              "      <td>10.0</td>\n",
              "      <td>5.4</td>\n",
              "    </tr>\n",
              "    <tr>\n",
              "      <th>3</th>\n",
              "      <td>5.7</td>\n",
              "      <td>10.4</td>\n",
              "      <td>6.5</td>\n",
              "    </tr>\n",
              "    <tr>\n",
              "      <th>4</th>\n",
              "      <td>7.1</td>\n",
              "      <td>10.4</td>\n",
              "      <td>6.7</td>\n",
              "    </tr>\n",
              "  </tbody>\n",
              "</table>\n",
              "</div>"
            ],
            "text/plain": [
              "   prev  horas  calif\n",
              "0   5.6    8.2    5.1\n",
              "1   6.7    9.3    5.9\n",
              "2   5.1   10.0    5.4\n",
              "3   5.7   10.4    6.5\n",
              "4   7.1   10.4    6.7"
            ]
          },
          "metadata": {
            "tags": []
          },
          "execution_count": 3
        }
      ]
    },
    {
      "cell_type": "markdown",
      "metadata": {
        "id": "CIZ0g5WzVSle"
      },
      "source": [
        "Dividiendo nuestros datos en dos atributos de entrada"
      ]
    },
    {
      "cell_type": "code",
      "metadata": {
        "id": "cQZm_MiZVV6h"
      },
      "source": [
        "X_df = data.drop(['calif'], axis=1)\n",
        "X_v = X_df.values\n",
        "y_df = data[\"calif\"]\n",
        "y_v = y_df.values"
      ],
      "execution_count": 14,
      "outputs": []
    },
    {
      "cell_type": "markdown",
      "metadata": {
        "id": "oNNYA4LyVxBS"
      },
      "source": [
        "Visualizando nuestros datos separados"
      ]
    },
    {
      "cell_type": "code",
      "metadata": {
        "colab": {
          "base_uri": "https://localhost:8080/",
          "height": 204
        },
        "id": "ignJSi3sVqaj",
        "outputId": "c75b0e3b-5a10-4c0f-b121-d30c54ecc7db"
      },
      "source": [
        "X_df.head()"
      ],
      "execution_count": 9,
      "outputs": [
        {
          "output_type": "execute_result",
          "data": {
            "text/html": [
              "<div>\n",
              "<style scoped>\n",
              "    .dataframe tbody tr th:only-of-type {\n",
              "        vertical-align: middle;\n",
              "    }\n",
              "\n",
              "    .dataframe tbody tr th {\n",
              "        vertical-align: top;\n",
              "    }\n",
              "\n",
              "    .dataframe thead th {\n",
              "        text-align: right;\n",
              "    }\n",
              "</style>\n",
              "<table border=\"1\" class=\"dataframe\">\n",
              "  <thead>\n",
              "    <tr style=\"text-align: right;\">\n",
              "      <th></th>\n",
              "      <th>prev</th>\n",
              "      <th>horas</th>\n",
              "    </tr>\n",
              "  </thead>\n",
              "  <tbody>\n",
              "    <tr>\n",
              "      <th>0</th>\n",
              "      <td>5.6</td>\n",
              "      <td>8.2</td>\n",
              "    </tr>\n",
              "    <tr>\n",
              "      <th>1</th>\n",
              "      <td>6.7</td>\n",
              "      <td>9.3</td>\n",
              "    </tr>\n",
              "    <tr>\n",
              "      <th>2</th>\n",
              "      <td>5.1</td>\n",
              "      <td>10.0</td>\n",
              "    </tr>\n",
              "    <tr>\n",
              "      <th>3</th>\n",
              "      <td>5.7</td>\n",
              "      <td>10.4</td>\n",
              "    </tr>\n",
              "    <tr>\n",
              "      <th>4</th>\n",
              "      <td>7.1</td>\n",
              "      <td>10.4</td>\n",
              "    </tr>\n",
              "  </tbody>\n",
              "</table>\n",
              "</div>"
            ],
            "text/plain": [
              "   prev  horas\n",
              "0   5.6    8.2\n",
              "1   6.7    9.3\n",
              "2   5.1   10.0\n",
              "3   5.7   10.4\n",
              "4   7.1   10.4"
            ]
          },
          "metadata": {
            "tags": []
          },
          "execution_count": 9
        }
      ]
    },
    {
      "cell_type": "code",
      "metadata": {
        "colab": {
          "base_uri": "https://localhost:8080/"
        },
        "id": "6ASV4Lo_Vqdc",
        "outputId": "b2050ca8-76e1-4927-9a1d-958071fb8a33"
      },
      "source": [
        "y_df.head()"
      ],
      "execution_count": 10,
      "outputs": [
        {
          "output_type": "execute_result",
          "data": {
            "text/plain": [
              "0    5.1\n",
              "1    5.9\n",
              "2    5.4\n",
              "3    6.5\n",
              "4    6.7\n",
              "Name: calif, dtype: float64"
            ]
          },
          "metadata": {
            "tags": []
          },
          "execution_count": 10
        }
      ]
    },
    {
      "cell_type": "code",
      "metadata": {
        "id": "HOUKqDVUVghs"
      },
      "source": [
        "tensor_X = torch.tensor(X_v).type(torch.float32)\n",
        "tensor_y = torch.tensor(y_v).view(-1, 1).type(torch.float32)"
      ],
      "execution_count": 15,
      "outputs": []
    },
    {
      "cell_type": "markdown",
      "metadata": {
        "id": "gJ_CMBcGYzVG"
      },
      "source": [
        "Utilizando la función vista en clase"
      ]
    },
    {
      "cell_type": "code",
      "metadata": {
        "id": "_FFpMdJXUTWm"
      },
      "source": [
        "def train(x, y_true, alpha=0.01, steps=10):\n",
        "    \"\"\"Fits linear regression.\"\"\"\n",
        "\n",
        "    # ejemplos, atributos\n",
        "    m, d = x.shape\n",
        "\n",
        "    # inicialización de parámetros\n",
        "    w = torch.zeros(d, 1)\n",
        "    b = torch.zeros(1)\n",
        "\n",
        "    # histórico de pérdidas\n",
        "    loss_hist = []\n",
        "\n",
        "    # ciclo de entrenamiento\n",
        "    for i in range(steps):\n",
        "\n",
        "        # cómputo de la hipótesis\n",
        "        y_pred = x @ w + b\n",
        "\n",
        "        # cómputo de la pérdida\n",
        "        loss = (y_pred - y_true).T @ (y_pred - y_true) / (2 * m)\n",
        "\n",
        "        # cómputo del gradiente\n",
        "        grad_w = (x.T @ (y_pred - y_true)) / m\n",
        "        grad_b = (y_pred - y_true).sum() / m\n",
        "\n",
        "        # actualización de parámetros\n",
        "        w = w - alpha * grad_w\n",
        "        b = b - alpha * grad_b\n",
        "\n",
        "        # histórico de pérdida\n",
        "        loss_hist.append(loss)\n",
        "\n",
        "    return w, b, loss_hist"
      ],
      "execution_count": 4,
      "outputs": []
    },
    {
      "cell_type": "markdown",
      "metadata": {
        "id": "lhLOGdXdXFbw"
      },
      "source": [
        "## Steps = 100"
      ]
    },
    {
      "cell_type": "code",
      "metadata": {
        "id": "aadALyMKUwbt"
      },
      "source": [
        "w, b, loss_hist = train(tensor_X, tensor_y, steps=100)"
      ],
      "execution_count": 25,
      "outputs": []
    },
    {
      "cell_type": "code",
      "metadata": {
        "colab": {
          "base_uri": "https://localhost:8080/",
          "height": 265
        },
        "id": "xfUV1ptlU31C",
        "outputId": "b9bd0f40-b5e0-4d99-c612-998a7f475735"
      },
      "source": [
        "plt.figure()\n",
        "plt.plot(range(len(loss_hist)), loss_hist, color='tab:red')\n",
        "plt.grid()\n",
        "plt.show()"
      ],
      "execution_count": 24,
      "outputs": [
        {
          "output_type": "display_data",
          "data": {
            "image/png": "[encoded data removed]",
            "text/plain": [
              "<Figure size 432x288 with 1 Axes>"
            ]
          },
          "metadata": {
            "tags": [],
            "needs_background": "light"
          }
        }
      ]
    },
    {
      "cell_type": "markdown",
      "metadata": {
        "id": "jnKGwPv0XHcA"
      },
      "source": [
        "## Steps = 10"
      ]
    },
    {
      "cell_type": "code",
      "metadata": {
        "id": "46deMbYuXN0Q"
      },
      "source": [
        "w, b, loss_hist = train(tensor_X, tensor_y)"
      ],
      "execution_count": 26,
      "outputs": []
    },
    {
      "cell_type": "code",
      "metadata": {
        "colab": {
          "base_uri": "https://localhost:8080/",
          "height": 265
        },
        "id": "nit9DvKGXSFd",
        "outputId": "9c6ecec9-ba11-4c6d-defd-ebbdcb4e3f69"
      },
      "source": [
        "plt.figure()\n",
        "plt.plot(range(len(loss_hist)), loss_hist, color='tab:red')\n",
        "plt.grid()\n",
        "plt.show()"
      ],
      "execution_count": 27,
      "outputs": [
        {
          "output_type": "display_data",
          "data": {
            "image/png": "[encoded data removed]",
            "text/plain": [
              "<Figure size 432x288 with 1 Axes>"
            ]
          },
          "metadata": {
            "tags": [],
            "needs_background": "light"
          }
        }
      ]
    },
    {
      "cell_type": "markdown",
      "metadata": {
        "id": "Cn0jKji-UygV"
      },
      "source": [
        "Tal como observamos la evolución de pérdida cambia de manera notable al indicar 10 steps utilizando 2 entradas."
      ]
    }
  ]
}